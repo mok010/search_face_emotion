{
 "cells": [
  {
   "cell_type": "markdown",
   "id": "bc641b3d",
   "metadata": {},
   "source": [
    "# 01. 데이터 추출\n",
    "\n",
    "### #1. 모듈 선언"
   ]
  },
  {
   "cell_type": "code",
   "execution_count": null,
   "id": "f67caa9e",
   "metadata": {},
   "outputs": [],
   "source": [
    "from libs.Face import FacialLandmarkDetector\n",
    "import libs.Face as Face\n",
    "import cv2\n",
    "\n",
    "facial_landmark_detector = FacialLandmarkDetector(\n",
    "        model=Face.FACIAL_LANDMARK_DETECTION_MODEL_DLIB,\n",
    "        face_detector=Face.FACE_DETECTION_MODEL_OPENCV_DNN)"
   ]
  },
  {
   "cell_type": "markdown",
   "id": "f6a2d93f",
   "metadata": {},
   "source": [
    "### #2. 얼굴 검출하기\n",
    "먼저 이미지를 불러온다."
   ]
  },
  {
   "cell_type": "code",
   "execution_count": null,
   "id": "5ad597df",
   "metadata": {},
   "outputs": [],
   "source": [
    "from matplotlib.pyplot import imshow\n",
    "\n",
    "# 경로 상의 이미지를 읽어오기\n",
    "img = cv2.imread(\"./datasets/neutral/appletree_open_neutral_01_210719.jpg\")\n",
    "\n",
    "# 이미지 사이즈를 조정 가로 480, 세로 640\n",
    "img = cv2.resize(img, (480, 640))\n",
    "\n",
    "# RGB 이미지로 변환\n",
    "rgb_img = cv2.cvtColor(img, cv2.COLOR_BGR2RGB)\n",
    "\n",
    "# 이미지 출력\n",
    "imshow(rgb_img)"
   ]
  },
  {
   "cell_type": "markdown",
   "id": "4bb07541",
   "metadata": {},
   "source": [
    "feed 함수를 이용하여 이미지를 모듈에 입력으로 넣는다.\n",
    "\n",
    "동작 결과는 getFace() 함수를 통해 받을 수 있다. (Face 객체 구성: x, y, w, h) "
   ]
  },
  {
   "cell_type": "code",
   "execution_count": null,
   "id": "61dde843",
   "metadata": {},
   "outputs": [],
   "source": [
    "# feed(img): 이미지(BGR 형식)를 입력받아 얼굴 검출 및 얼굴 특징점을 검출한다.\n",
    "\n",
    "facial_landmark_detector.feed(img)"
   ]
  },
  {
   "cell_type": "code",
   "execution_count": null,
   "id": "25d47910",
   "metadata": {},
   "outputs": [],
   "source": [
    "# getIsDetect(): 얼굴 검출 여부를 확인하는 함수. 얼굴이 검출되면 True를, 아니면 False를 반환함.\n",
    "if facial_landmark_detector.getIsDetect():\n",
    "    \n",
    "    # getFace(): 검출된 얼굴 영역을 반환하는 함수. 얼굴 영역은 Face 객체로 반환된다.\n",
    "    roi = facial_landmark_detector.getFace()\n",
    "    \n",
    "    # Face(x. y. w. h) 객체 : x, y, w, h 4가지 값으로 이루어져 있다.\n",
    "    # x : 얼굴 영역의 좌측 상단 x 좌표\n",
    "    # y : 얼굴 영역의 좌측 상단 y 좌표\n",
    "    # w : 얼굴 영역의 가로 길이\n",
    "    # h : 얼굴 영역의 세로 길이\n",
    "    # 각각의 값은 getX(). getY(), getW(), getH() 함수로 반환받을 수 있다.\n",
    "\n",
    "    # 검출된 얼굴 영역 박스 그리기\n",
    "    cv2.rectangle(rgb_img, (roi.getX(), roi.getY()), (roi.getX()+roi.getW(), roi.getY()+roi.getH()), (0, 255, 0), 3)\n",
    "    \n",
    "    # 이미지 출력\n",
    "    imshow(rgb_img)"
   ]
  },
  {
   "cell_type": "markdown",
   "id": "d6b414b0",
   "metadata": {},
   "source": [
    "### #3. 얼굴 특징점 검출하기\n",
    "\n",
    "먼저 얼굴만 크롭한다."
   ]
  },
  {
   "cell_type": "code",
   "execution_count": null,
   "id": "c3714c9d",
   "metadata": {
    "scrolled": true
   },
   "outputs": [],
   "source": [
    "# getIsDetect(): 얼굴 검출 여부를 확인하는 함수. 얼굴이 검출되면 True를, 아니면 False를 반환함.\n",
    "if facial_landmark_detector.getIsDetect():\n",
    "    \n",
    "    # getFacialLandmark(): 검출된 얼굴 특징점을 반환하는 함수. 얼굴 영역은 FacialLandmark 객체로 반환된다.\n",
    "    landmarks = facial_landmark_detector.getFacialLandmark()\n",
    "    \n",
    "    # FacialLandmark(x. y) 객체 : x, y 2가지 배열로 이루어져 있다.\n",
    "    # x : 얼굴 특징점의 x 좌표 리스트\n",
    "    # y : 얼굴 특징점의 y 좌표 리스트\n",
    "    # 각각의 리스트는 getX(). getY() 함수로 반환받을 수 있다.\n",
    "    x = landmarks.getX() \n",
    "    y = landmarks.getY()\n",
    "    \n",
    "    # 검출된 얼굴 특징점 그리기\n",
    "    for i in range(landmarks.size):\n",
    "        cv2.circle(rgb_img, (int(x[i]), int(y[i])), 1, (255, 255, 0), 3)\n",
    "    \n",
    "    # 이미지 출력\n",
    "    imshow(rgb_img)"
   ]
  },
  {
   "cell_type": "markdown",
   "id": "d63a6216",
   "metadata": {},
   "source": [
    "이렇게 추출된 얼굴 특징점 데이터를 이용하여 표정을 인식하기 위한 룰을 세울 수 있다."
   ]
  },
  {
   "cell_type": "code",
   "execution_count": null,
   "id": "7f0a047f",
   "metadata": {},
   "outputs": [],
   "source": []
  },
  {
   "cell_type": "code",
   "execution_count": null,
   "id": "db349dda",
   "metadata": {},
   "outputs": [],
   "source": []
  }
 ],
 "metadata": {
  "kernelspec": {
   "display_name": "zzz_dataenv",
   "language": "python",
   "name": "python3"
  },
  "language_info": {
   "codemirror_mode": {
    "name": "ipython",
    "version": 3
   },
   "file_extension": ".py",
   "mimetype": "text/x-python",
   "name": "python",
   "nbconvert_exporter": "python",
   "pygments_lexer": "ipython3",
   "version": "3.13.3"
  }
 },
 "nbformat": 4,
 "nbformat_minor": 5
}
